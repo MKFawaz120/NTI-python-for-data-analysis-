{
 "cells": [
  {
   "cell_type": "code",
   "execution_count": null,
   "id": "54d4bd6a",
   "metadata": {},
   "outputs": [],
   "source": [
    "\n",
    "\n",
    "def transport_cipher(plaintext, key):\n",
    "    ciphertext = [''] * key\n",
    "    for column in range(key):\n",
    "        pointer = column\n",
    "        while pointer < len(plaintext):\n",
    "            ciphertext[column] += plaintext[pointer]\n",
    "            pointer += key\n",
    "    return ''.join(ciphertext)\n",
    "\n",
    "\n",
    "\n",
    "def transport_decipher(ciphertext, key):\n",
    "    plaintext = [''] * ((len(ciphertext) + key - 1) // key)  # Determine number of rows\n",
    "    index = 0\n",
    "    for column in range(key):\n",
    "        pointer = column\n",
    "        while pointer < len(ciphertext):\n",
    "            plaintext[index] += ciphertext[pointer]\n",
    "            pointer += key\n",
    "            index += 1\n",
    "            if index == len(plaintext):  # Avoid index out of range\n",
    "                break\n",
    "        index = 0\n",
    "    return ''.join(plaintext)\n",
    "\n",
    "\n",
    "\n",
    "\n",
    "# Example usage\n",
    "plaintext = \"today i watch barcalona match\"\n",
    "key = 9\n",
    "\n",
    "# Encryption\n",
    "ciphertext = transport_cipher(plaintext, key)\n",
    "print(\"Encrypted:\", ciphertext)\n",
    "\n",
    "# Decryption\n",
    "decrypted_text = transport_decipher(ciphertext, key)\n",
    "print(\"Decrypted:\", decrypted_text)\n"
   ]
  }
 ],
 "metadata": {
  "kernelspec": {
   "display_name": "Python 3 (ipykernel)",
   "language": "python",
   "name": "python3"
  },
  "language_info": {
   "codemirror_mode": {
    "name": "ipython",
    "version": 3
   },
   "file_extension": ".py",
   "mimetype": "text/x-python",
   "name": "python",
   "nbconvert_exporter": "python",
   "pygments_lexer": "ipython3",
   "version": "3.9.13"
  }
 },
 "nbformat": 4,
 "nbformat_minor": 5
}
